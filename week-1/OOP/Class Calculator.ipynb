{
 "cells": [
  {
   "cell_type": "code",
   "execution_count": 62,
   "metadata": {},
   "outputs": [],
   "source": [
    "import math\n",
    "\n",
    "class Calculator:\n",
    "    def __init__(self, data):\n",
    "        self.data = data\n",
    "        self.update_stats()\n",
    "        \n",
    "    def update_stats(self):\n",
    "        self.length = len(self.data)\n",
    "        self.mean = self.__calc_mean()\n",
    "        self.median = self.__calc_median()\n",
    "        self.variance = self.__calc_var()\n",
    "        self.standev = self.__std_dev()\n",
    "        \n",
    "    def __calc_mean(self):\n",
    "        mean = sum(self.data)/len(self.data)\n",
    "        return mean\n",
    "    \n",
    "    def __calc_median(self):\n",
    "        length = len(self.data)\n",
    "        half_length = int(len(self.data)/2)\n",
    "        med_int = int((half_length)-0.5)\n",
    "        if length%2 == 0:\n",
    "            median = (self.data[half_length]+self.data[half_length-1])/2\n",
    "        else:\n",
    "            median = self.data[med_int]\n",
    "        return median\n",
    "    \n",
    "    def __calc_var(self):\n",
    "        diff_square = []\n",
    "        for x in self.data:\n",
    "            diff_square.append((x - self.mean)**2)\n",
    "        return sum(diff_square)/(len(self.data) - 1)\n",
    "    \n",
    "    def __std_dev(self):\n",
    "        return math.sqrt(self.variance)\n",
    "    \n",
    "    def add_data(self, new_data):\n",
    "        if type(new_data) == list:\n",
    "            self.data.extend(new_data)\n",
    "        else:\n",
    "            self.data.append(new_data)\n",
    "            \n",
    "    def remove_data(self, )\n",
    "    \n",
    "    \n",
    "    \n",
    "new_calc = Calculator([55, 56, 56, 58, 60, 61, 63, 64, 70])"
   ]
  },
  {
   "cell_type": "code",
   "execution_count": 63,
   "metadata": {},
   "outputs": [
    {
     "data": {
      "text/plain": [
       "4.8218253804964775"
      ]
     },
     "execution_count": 63,
     "metadata": {},
     "output_type": "execute_result"
    }
   ],
   "source": [
    "new_calc.standev"
   ]
  },
  {
   "cell_type": "code",
   "execution_count": 64,
   "metadata": {},
   "outputs": [
    {
     "data": {
      "text/plain": [
       "58"
      ]
     },
     "execution_count": 64,
     "metadata": {},
     "output_type": "execute_result"
    }
   ],
   "source": [
    "new_calc.median"
   ]
  },
  {
   "cell_type": "code",
   "execution_count": 65,
   "metadata": {},
   "outputs": [],
   "source": [
    "new_calc.add_data([90, 100, 101])"
   ]
  },
  {
   "cell_type": "code",
   "execution_count": 66,
   "metadata": {},
   "outputs": [
    {
     "data": {
      "text/plain": [
       "[55, 56, 56, 58, 60, 61, 63, 64, 70, 90, 100, 101]"
      ]
     },
     "execution_count": 66,
     "metadata": {},
     "output_type": "execute_result"
    }
   ],
   "source": [
    "new_calc.data"
   ]
  },
  {
   "cell_type": "code",
   "execution_count": 67,
   "metadata": {},
   "outputs": [],
   "source": [
    "new_calc.update_stats()"
   ]
  },
  {
   "cell_type": "code",
   "execution_count": 68,
   "metadata": {},
   "outputs": [
    {
     "data": {
      "text/plain": [
       "17.281098449935513"
      ]
     },
     "execution_count": 68,
     "metadata": {},
     "output_type": "execute_result"
    }
   ],
   "source": [
    "new_calc.standev"
   ]
  },
  {
   "cell_type": "code",
   "execution_count": 69,
   "metadata": {},
   "outputs": [
    {
     "data": {
      "text/plain": [
       "69.5"
      ]
     },
     "execution_count": 69,
     "metadata": {},
     "output_type": "execute_result"
    }
   ],
   "source": [
    "new_calc.mean"
   ]
  },
  {
   "cell_type": "code",
   "execution_count": 70,
   "metadata": {},
   "outputs": [
    {
     "data": {
      "text/plain": [
       "62.0"
      ]
     },
     "execution_count": 70,
     "metadata": {},
     "output_type": "execute_result"
    }
   ],
   "source": [
    "new_calc.median"
   ]
  },
  {
   "cell_type": "code",
   "execution_count": null,
   "metadata": {},
   "outputs": [],
   "source": []
  }
 ],
 "metadata": {
  "kernelspec": {
   "display_name": "Python 3",
   "language": "python",
   "name": "python3"
  },
  "language_info": {
   "codemirror_mode": {
    "name": "ipython",
    "version": 3
   },
   "file_extension": ".py",
   "mimetype": "text/x-python",
   "name": "python",
   "nbconvert_exporter": "python",
   "pygments_lexer": "ipython3",
   "version": "3.7.3"
  }
 },
 "nbformat": 4,
 "nbformat_minor": 2
}
