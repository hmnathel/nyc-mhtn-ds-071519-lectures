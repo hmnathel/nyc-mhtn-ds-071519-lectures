{
 "cells": [
  {
   "cell_type": "code",
   "execution_count": 49,
   "metadata": {},
   "outputs": [],
   "source": [
    "import math\n",
    "\n",
    "class Calculator:\n",
    "    def __init__(self, data):\n",
    "        assert all(isinstance(x, (int, float)) for x in data), \"list can only be numbers\"\n",
    "        self.data = data\n",
    "        self.__update()\n",
    "        \n",
    "    def __update(self):\n",
    "        self.length = len(self.data)\n",
    "        self.mean = self.__calc_mean()\n",
    "        self.median = self.__calc_median()\n",
    "        self.variance = self.__calc_var()\n",
    "        self.standev = self.__std_dev()\n",
    "        \n",
    "    def __calc_mean(self):\n",
    "        mean = sum(self.data)/len(self.data)\n",
    "        return mean\n",
    "    \n",
    "    def __calc_median(self):\n",
    "        srt_data = sorted(self.data)\n",
    "        length = len(srt_data)\n",
    "        half_length = int(len(srt_data)/2)\n",
    "        med_int = int((half_length)+0.5)\n",
    "        if length%2 == 0:\n",
    "            median = (srt_data[half_length]+srt_data[half_length-1])/2\n",
    "        else:\n",
    "            median = srt_data[med_int]\n",
    "        return median\n",
    "    \n",
    "    def __calc_var(self):\n",
    "        diff_square = []\n",
    "        for x in self.data:\n",
    "            diff_square.append((x - self.mean)**2)\n",
    "        return sum(diff_square)/(len(self.data) - 1)\n",
    "    \n",
    "    def __std_dev(self):\n",
    "        return math.sqrt(self.variance)\n",
    "    \n",
    "    def add_data(self, new_data):\n",
    "        if type(new_data) == list:\n",
    "            self.data.extend(new_data)\n",
    "        else:\n",
    "            self.data.append(new_data)\n",
    "        self.__update()\n",
    "            \n",
    "    def remove_data(self, to_be_removed):\n",
    "        return self.data.remove(to_be_removed)\n",
    "        self.__update()\n",
    "    \n",
    "    \n",
    "    \n",
    "new_calc = Calculator([55, 56, 56, 58, 60, 61, 63, 64, 70])"
   ]
  },
  {
   "cell_type": "code",
   "execution_count": 50,
   "metadata": {},
   "outputs": [
    {
     "data": {
      "text/plain": [
       "4.8218253804964775"
      ]
     },
     "execution_count": 50,
     "metadata": {},
     "output_type": "execute_result"
    }
   ],
   "source": [
    "new_calc.standev"
   ]
  },
  {
   "cell_type": "code",
   "execution_count": 51,
   "metadata": {},
   "outputs": [
    {
     "data": {
      "text/plain": [
       "60"
      ]
     },
     "execution_count": 51,
     "metadata": {},
     "output_type": "execute_result"
    }
   ],
   "source": [
    "new_calc.median"
   ]
  },
  {
   "cell_type": "code",
   "execution_count": 52,
   "metadata": {},
   "outputs": [],
   "source": [
    "new_calc.add_data([10, 100, 101])"
   ]
  },
  {
   "cell_type": "code",
   "execution_count": 53,
   "metadata": {},
   "outputs": [
    {
     "data": {
      "text/plain": [
       "[55, 56, 56, 58, 60, 61, 63, 64, 70, 10, 100, 101]"
      ]
     },
     "execution_count": 53,
     "metadata": {},
     "output_type": "execute_result"
    }
   ],
   "source": [
    "new_calc.data"
   ]
  },
  {
   "cell_type": "code",
   "execution_count": 54,
   "metadata": {},
   "outputs": [
    {
     "data": {
      "text/plain": [
       "23.10384986940226"
      ]
     },
     "execution_count": 54,
     "metadata": {},
     "output_type": "execute_result"
    }
   ],
   "source": [
    "new_calc.standev"
   ]
  },
  {
   "cell_type": "code",
   "execution_count": 55,
   "metadata": {},
   "outputs": [
    {
     "data": {
      "text/plain": [
       "62.833333333333336"
      ]
     },
     "execution_count": 55,
     "metadata": {},
     "output_type": "execute_result"
    }
   ],
   "source": [
    "new_calc.mean"
   ]
  },
  {
   "cell_type": "code",
   "execution_count": 56,
   "metadata": {},
   "outputs": [
    {
     "data": {
      "text/plain": [
       "60.5"
      ]
     },
     "execution_count": 56,
     "metadata": {},
     "output_type": "execute_result"
    }
   ],
   "source": [
    "new_calc.median"
   ]
  },
  {
   "cell_type": "code",
   "execution_count": 57,
   "metadata": {},
   "outputs": [],
   "source": [
    "new_calc.remove_data(55)"
   ]
  },
  {
   "cell_type": "code",
   "execution_count": 58,
   "metadata": {},
   "outputs": [
    {
     "data": {
      "text/plain": [
       "[56, 56, 58, 60, 61, 63, 64, 70, 10, 100, 101]"
      ]
     },
     "execution_count": 58,
     "metadata": {},
     "output_type": "execute_result"
    }
   ],
   "source": [
    "new_calc.data"
   ]
  },
  {
   "cell_type": "code",
   "execution_count": 59,
   "metadata": {},
   "outputs": [
    {
     "data": {
      "text/plain": [
       "60.5"
      ]
     },
     "execution_count": 59,
     "metadata": {},
     "output_type": "execute_result"
    }
   ],
   "source": [
    "new_calc.median"
   ]
  },
  {
   "cell_type": "code",
   "execution_count": null,
   "metadata": {},
   "outputs": [],
   "source": []
  }
 ],
 "metadata": {
  "kernelspec": {
   "display_name": "Python 3",
   "language": "python",
   "name": "python3"
  },
  "language_info": {
   "codemirror_mode": {
    "name": "ipython",
    "version": 3
   },
   "file_extension": ".py",
   "mimetype": "text/x-python",
   "name": "python",
   "nbconvert_exporter": "python",
   "pygments_lexer": "ipython3",
   "version": "3.7.3"
  }
 },
 "nbformat": 4,
 "nbformat_minor": 2
}
